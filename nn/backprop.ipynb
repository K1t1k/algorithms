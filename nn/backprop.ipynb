{
 "cells": [
  {
   "cell_type": "code",
   "execution_count": 1,
   "metadata": {},
   "outputs": [],
   "source": [
    "import numpy as np\n",
    "from sklearn.datasets import load_digits\n",
    "from sklearn.model_selection import train_test_split, learning_curve"
   ]
  },
  {
   "cell_type": "code",
   "execution_count": 2,
   "metadata": {},
   "outputs": [],
   "source": [
    "X = load_digits().data\n",
    "y = load_digits().target"
   ]
  },
  {
   "cell_type": "code",
   "execution_count": 3,
   "metadata": {},
   "outputs": [],
   "source": [
    "X_train, X_test, y_train, y_test = train_test_split(X, y, test_size=0.2, random_state=2020)"
   ]
  },
  {
   "cell_type": "code",
   "execution_count": 4,
   "metadata": {},
   "outputs": [
    {
     "data": {
      "text/plain": [
       "array([140, 147, 142, 147, 139, 145, 145, 142, 145, 145])"
      ]
     },
     "execution_count": 4,
     "metadata": {},
     "output_type": "execute_result"
    }
   ],
   "source": [
    "np.bincount(y_train)"
   ]
  },
  {
   "cell_type": "code",
   "execution_count": 5,
   "metadata": {},
   "outputs": [
    {
     "data": {
      "text/plain": [
       "array([38, 35, 35, 36, 42, 37, 36, 37, 29, 35])"
      ]
     },
     "execution_count": 5,
     "metadata": {},
     "output_type": "execute_result"
    }
   ],
   "source": [
    "np.bincount(y_test)"
   ]
  },
  {
   "cell_type": "code",
   "execution_count": 21,
   "metadata": {},
   "outputs": [],
   "source": [
    "def one_hot(y):\n",
    "    n_classes = np.unique(y).shape[0]\n",
    "    ohe_y = np.zeros((y.shape[0], n_classes))\n",
    "    for row_idx, i in enumerate(y):\n",
    "        for col_idx in range(n_classes):\n",
    "            if i==col_idx:\n",
    "                ohe_y[row_idx, col_idx] = 1\n",
    "    return ohe_y\n",
    "\n",
    "def sigmoid(input):\n",
    "    return 1. / (1. + np.exp(-np.clip(input, -250, 250)))\n",
    "\n",
    "def forward(X, w_h, w_out):\n",
    "    z_h = X.dot(w_h)\n",
    "    a_h = sigmoid(z_h)\n",
    "    z_out = a_h.dot(w_out)\n",
    "    a_out = sigmoid(z_out)\n",
    "    return z_h, a_h, z_out, a_out\n",
    "\n",
    "\n",
    "def NN(X, y, c, n_hidden, learning_rate, epochs):\n",
    "    '''\n",
    "    X - обучающая выборка\n",
    "    y - метки\n",
    "    c - значение лямбды регуляризации\n",
    "    n_hidden - количество скрытых элементов\n",
    "    learning_rate - скорость обучение\n",
    "    '''\n",
    "    n_output = np.unique(y).shape[0]\n",
    "    X = np.column_stack((np.ones(X.shape[0]), X))\n",
    "    y_ohe = one_hot(y)\n",
    "    w_h = np.random.normal(loc=0.0, scale=0.1, size=(X.shape[1], n_hidden))\n",
    "    w_out = np.random.normal(loc=0.0, scale=0.1, size=(n_hidden, n_output))\n",
    "    cost = []\n",
    "    \n",
    "    for _ in range(epochs):\n",
    "        \n",
    "        z_h, a_h, z_out, a_out = forward(X, w_h, w_out)\n",
    "        cost_ = np.sum(-y_ohe * np.log(a_out) - ((1. - y_ohe) * (np.log(1 - a_out))))\n",
    "        cost.append(cost_)\n",
    "        sigma_out = a_out - y_ohe\n",
    "        sigma_derivative_h = a_h * (1. - a_h)\n",
    "        sigma_h = np.dot(sigma_out, w_out.T) * sigma_derivative_h\n",
    "\n",
    "        grad_w_out = a_h.T.dot(sigma_out)\n",
    "        grad_w_h = X.T.dot(sigma_h)\n",
    "\n",
    "        w_out -= grad_w_out * learning_rate\n",
    "        w_h -= grad_w_h * learning_rate\n",
    "\n",
    "    cost_ = np.sum(-y_ohe * np.log(a_out) - ((1. - y_ohe) * (np.log(1 - a_out))))\n",
    "    cost.append(cost_)\n",
    "    \n",
    "    return cost, (w_h, w_out)\n",
    "\n",
    "def make_predict(X, w_h, w_out):\n",
    "    X = np.column_stack((np.ones(X.shape[0]), X))\n",
    "    z_h, a_h, z_out, a_out = forward(X, w_h, w_out)\n",
    "    return a_out"
   ]
  },
  {
   "cell_type": "code",
   "execution_count": 38,
   "metadata": {
    "scrolled": true
   },
   "outputs": [
    {
     "name": "stdout",
     "output_type": "stream",
     "text": [
      "CPU times: user 4min 14s, sys: 15.1 s, total: 4min 29s\n",
      "Wall time: 2min 18s\n"
     ]
    }
   ],
   "source": [
    "%%time\n",
    "a_30, w = NN(X_train, y_train, 1, 30, 0.001, 50000)"
   ]
  },
  {
   "cell_type": "code",
   "execution_count": 39,
   "metadata": {},
   "outputs": [],
   "source": [
    "predict = make_predict(X_test, w[0], w[1])"
   ]
  },
  {
   "cell_type": "code",
   "execution_count": 40,
   "metadata": {},
   "outputs": [
    {
     "data": {
      "text/plain": [
       "418.64239053779886"
      ]
     },
     "execution_count": 40,
     "metadata": {},
     "output_type": "execute_result"
    }
   ],
   "source": [
    "np.sum(-one_hot(y_test) * np.log(predict) - ((1. - one_hot(y_test)) * (np.log(1 - predict))))"
   ]
  },
  {
   "cell_type": "code",
   "execution_count": 41,
   "metadata": {},
   "outputs": [],
   "source": [
    "from matplotlib import pyplot as plt\n",
    "%matplotlib inline"
   ]
  },
  {
   "cell_type": "code",
   "execution_count": 42,
   "metadata": {},
   "outputs": [
    {
     "data": {
      "image/png": "[encoded data removed]",
      "text/plain": [
       "<Figure size 864x432 with 1 Axes>"
      ]
     },
     "metadata": {},
     "output_type": "display_data"
    }
   ],
   "source": [
    "plt.figure(figsize=(12, 6))\n",
    "plt.plot(a_30);"
   ]
  },
  {
   "cell_type": "code",
   "execution_count": 43,
   "metadata": {},
   "outputs": [
    {
     "data": {
      "text/plain": [
       "45564"
      ]
     },
     "execution_count": 43,
     "metadata": {},
     "output_type": "execute_result"
    }
   ],
   "source": [
    "a_30.index(min(a_30))"
   ]
  },
  {
   "cell_type": "code",
   "execution_count": null,
   "metadata": {},
   "outputs": [],
   "source": []
  },
  {
   "cell_type": "code",
   "execution_count": 33,
   "metadata": {},
   "outputs": [
    {
     "name": "stdout",
     "output_type": "stream",
     "text": [
      "CPU times: user 5min 34s, sys: 19.7 s, total: 5min 54s\n",
      "Wall time: 2min 59s\n"
     ]
    }
   ],
   "source": [
    "%%time\n",
    "a_50, w = NN(X_train, y_train, 1, 50, 0.001, 50000)"
   ]
  },
  {
   "cell_type": "code",
   "execution_count": 34,
   "metadata": {},
   "outputs": [],
   "source": [
    "predict = make_predict(X_test, w[0], w[1])"
   ]
  },
  {
   "cell_type": "code",
   "execution_count": 35,
   "metadata": {},
   "outputs": [
    {
     "data": {
      "text/plain": [
       "214.8870707102962"
      ]
     },
     "execution_count": 35,
     "metadata": {},
     "output_type": "execute_result"
    }
   ],
   "source": [
    "np.sum(-one_hot(y_test) * np.log(predict) - ((1. - one_hot(y_test)) * (np.log(1 - predict))))"
   ]
  },
  {
   "cell_type": "code",
   "execution_count": 36,
   "metadata": {},
   "outputs": [
    {
     "data": {
      "image/png": "[encoded data removed]",
      "text/plain": [
       "<Figure size 864x432 with 1 Axes>"
      ]
     },
     "metadata": {},
     "output_type": "display_data"
    }
   ],
   "source": [
    "plt.figure(figsize=(12, 6))\n",
    "plt.plot(a_50);"
   ]
  },
  {
   "cell_type": "code",
   "execution_count": 37,
   "metadata": {},
   "outputs": [
    {
     "data": {
      "text/plain": [
       "14651"
      ]
     },
     "execution_count": 37,
     "metadata": {},
     "output_type": "execute_result"
    }
   ],
   "source": [
    "a_50.index(min(a_50))"
   ]
  },
  {
   "cell_type": "code",
   "execution_count": 44,
   "metadata": {},
   "outputs": [],
   "source": [
    "from MLP import NeuralNetMLP"
   ]
  },
  {
   "cell_type": "code",
   "execution_count": 48,
   "metadata": {},
   "outputs": [],
   "source": [
    "nn = NeuralNetMLP(n_hidden=30, l2=0.0, eta=0.001, epochs=1000)"
   ]
  },
  {
   "cell_type": "code",
   "execution_count": 49,
   "metadata": {},
   "outputs": [
    {
     "name": "stderr",
     "output_type": "stream",
     "text": [
      "1000/1000 | Cost: 28.81 | Train/Valid Acc.: 100.00%/98.33%  "
     ]
    },
    {
     "data": {
      "text/plain": [
       "<MLP.NeuralNetMLP at 0x117ae3048>"
      ]
     },
     "execution_count": 49,
     "metadata": {},
     "output_type": "execute_result"
    }
   ],
   "source": [
    "nn.fit(X_train, y_train, X_test, y_test)"
   ]
  },
  {
   "cell_type": "code",
   "execution_count": 50,
   "metadata": {},
   "outputs": [
    {
     "name": "stdout",
     "output_type": "stream",
     "text": [
      "CPU times: user 4.89 s, sys: 276 ms, total: 5.16 s\n",
      "Wall time: 2.59 s\n"
     ]
    }
   ],
   "source": [
    "%%time\n",
    "a_30, w = NN(X_train, y_train, 1, 30, 0.001, 1000)"
   ]
  },
  {
   "cell_type": "code",
   "execution_count": null,
   "metadata": {},
   "outputs": [],
   "source": []
  }
 ],
 "metadata": {
  "kernelspec": {
   "display_name": "Python 3",
   "language": "python",
   "name": "python3"
  },
  "language_info": {
   "codemirror_mode": {
    "name": "ipython",
    "version": 3
   },
   "file_extension": ".py",
   "mimetype": "text/x-python",
   "name": "python",
   "nbconvert_exporter": "python",
   "pygments_lexer": "ipython3",
   "version": "3.6.5"
  }
 },
 "nbformat": 4,
 "nbformat_minor": 2
}
