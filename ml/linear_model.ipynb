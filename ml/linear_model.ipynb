{
 "cells": [
  {
   "cell_type": "code",
   "execution_count": 1,
   "metadata": {},
   "outputs": [],
   "source": [
    "import numpy as np\n",
    "import pandas as pd\n",
    "import random\n",
    "\n",
    "import warnings\n",
    "\n",
    "warnings.filterwarnings('ignore')\n",
    "\n",
    "from sklearn.datasets import load_boston\n",
    "from sklearn.preprocessing import StandardScaler\n",
    "import sklearn.linear_model\n",
    "from linear_regression import LinearRegression\n",
    "\n",
    "np.random.seed(40)"
   ]
  },
  {
   "cell_type": "code",
   "execution_count": 2,
   "metadata": {},
   "outputs": [],
   "source": [
    "X = load_boston().data\n",
    "y = load_boston().target\n",
    "scaler = StandardScaler()\n",
    "X_scaled = scaler.fit_transform(X)"
   ]
  },
  {
   "cell_type": "code",
   "execution_count": 7,
   "metadata": {},
   "outputs": [],
   "source": [
    "sklr = sklearn.linear_model.LinearRegression()\n",
    "sklr.fit(X_scaled, y)"
   ]
  },
  {
   "cell_type": "code",
   "execution_count": 8,
   "metadata": {},
   "outputs": [],
   "source": [
    "lr = LinearRegression(alpha=0.0005, max_iter=1000, random_state=2019)\n",
    "lr.fit(X_scaled, y)"
   ]
  },
  {
   "cell_type": "code",
   "execution_count": 15,
   "metadata": {},
   "outputs": [
    {
     "data": {
      "text/plain": [
       "[(-0.9204111277001574, -0.9204109281529967),\n",
       " (1.0809805781703272, 1.0809802235981993),\n",
       " (0.14296712402019407, 0.1429660227403188),\n",
       " (0.6822034602840216, 0.6822036176494952),\n",
       " (-2.060092463540669, -2.060092271173144),\n",
       " (2.6706414133249385, 2.6706416140852207),\n",
       " (0.02112063062127656, 0.021120460971634156),\n",
       " (-3.104448051483856, -3.104448131620553),\n",
       " (2.6587865409067524, 2.658783764888558),\n",
       " (-2.07589814093026, -2.0758949841662204),\n",
       " (-2.062155925973757, -2.0621558229357366),\n",
       " (0.8566404358167781, 0.8566404145587317),\n",
       " (-3.7486798191194586, -3.7486797105461305)]"
      ]
     },
     "execution_count": 15,
     "metadata": {},
     "output_type": "execute_result"
    }
   ],
   "source": [
    "list(zip(sklr.coef_,lr.coef_))"
   ]
  }
 ],
 "metadata": {
  "kernelspec": {
   "display_name": "Python 3",
   "language": "python",
   "name": "python3"
  },
  "language_info": {
   "codemirror_mode": {
    "name": "ipython",
    "version": 3
   },
   "file_extension": ".py",
   "mimetype": "text/x-python",
   "name": "python",
   "nbconvert_exporter": "python",
   "pygments_lexer": "ipython3",
   "version": "3.6.5"
  }
 },
 "nbformat": 4,
 "nbformat_minor": 2
}
