{
 "cells": [
  {
   "cell_type": "code",
   "execution_count": 1,
   "metadata": {},
   "outputs": [],
   "source": [
    "import numpy as np\n",
    "import pandas as pd\n",
    "import random\n",
    "import sys\n",
    "sys.path.insert(0, '../ml/')\n",
    "\n",
    "import warnings\n",
    "\n",
    "warnings.filterwarnings('ignore')\n",
    "\n",
    "from sklearn.datasets import load_boston, load_breast_cancer\n",
    "from sklearn.preprocessing import StandardScaler\n",
    "import sklearn.linear_model\n",
    "\n",
    "from linear_model import LinearRegression\n",
    "\n",
    "np.random.seed(40)"
   ]
  },
  {
   "cell_type": "code",
   "execution_count": 7,
   "metadata": {},
   "outputs": [],
   "source": [
    "X = load_boston().data\n",
    "y = load_boston().target\n",
    "scaler = StandardScaler()\n",
    "X_scaled = scaler.fit_transform(X)"
   ]
  },
  {
   "cell_type": "code",
   "execution_count": 3,
   "metadata": {},
   "outputs": [
    {
     "data": {
      "text/plain": [
       "LinearRegression(copy_X=True, fit_intercept=True, n_jobs=1, normalize=False)"
      ]
     },
     "execution_count": 3,
     "metadata": {},
     "output_type": "execute_result"
    }
   ],
   "source": [
    "sklr = sklearn.linear_model.LinearRegression()\n",
    "sklr.fit(X_scaled, y)"
   ]
  },
  {
   "cell_type": "code",
   "execution_count": 4,
   "metadata": {},
   "outputs": [
    {
     "data": {
      "text/plain": [
       "<linear_model.LinearRegression at 0x106334898>"
      ]
     },
     "execution_count": 4,
     "metadata": {},
     "output_type": "execute_result"
    }
   ],
   "source": [
    "lr = LinearRegression(learning_rate=0.0005, max_iter=1000, random_state=2019)\n",
    "lr.fit(X_scaled, y)"
   ]
  },
  {
   "cell_type": "code",
   "execution_count": 5,
   "metadata": {},
   "outputs": [
    {
     "data": {
      "text/plain": [
       "[(-0.9204111277001574, -0.9204109281529967),\n",
       " (1.0809805781703272, 1.0809802235981993),\n",
       " (0.14296712402019407, 0.1429660227403188),\n",
       " (0.6822034602840216, 0.6822036176494952),\n",
       " (-2.060092463540669, -2.060092271173144),\n",
       " (2.6706414133249385, 2.6706416140852207),\n",
       " (0.02112063062127656, 0.021120460971634156),\n",
       " (-3.104448051483856, -3.104448131620553),\n",
       " (2.6587865409067524, 2.658783764888558),\n",
       " (-2.07589814093026, -2.0758949841662204),\n",
       " (-2.062155925973757, -2.0621558229357366),\n",
       " (0.8566404358167781, 0.8566404145587317),\n",
       " (-3.7486798191194586, -3.7486797105461305)]"
      ]
     },
     "execution_count": 5,
     "metadata": {},
     "output_type": "execute_result"
    }
   ],
   "source": [
    "list(zip(sklr.coef_,lr.coef_))"
   ]
  },
  {
   "cell_type": "markdown",
   "metadata": {},
   "source": [
    "## Логистическая"
   ]
  },
  {
   "cell_type": "code",
   "execution_count": 3,
   "metadata": {},
   "outputs": [],
   "source": [
    "X = load_breast_cancer().data\n",
    "y = load_breast_cancer().target\n",
    "y = y.astype(float)"
   ]
  },
  {
   "cell_type": "code",
   "execution_count": 4,
   "metadata": {},
   "outputs": [],
   "source": [
    "sk_lg = sklearn.linear_model.LogisticRegression(max_iter=10000)"
   ]
  },
  {
   "cell_type": "code",
   "execution_count": 5,
   "metadata": {},
   "outputs": [
    {
     "data": {
      "text/plain": [
       "LogisticRegression(C=1.0, class_weight=None, dual=False, fit_intercept=True,\n",
       "          intercept_scaling=1, max_iter=10000, multi_class='ovr', n_jobs=1,\n",
       "          penalty='l2', random_state=None, solver='liblinear', tol=0.0001,\n",
       "          verbose=0, warm_start=False)"
      ]
     },
     "execution_count": 5,
     "metadata": {},
     "output_type": "execute_result"
    }
   ],
   "source": [
    "sk_lg.fit(X, y)"
   ]
  },
  {
   "cell_type": "code",
   "execution_count": 6,
   "metadata": {},
   "outputs": [],
   "source": [
    "def logistic_regression(X, y, alpha, max_iter):\n",
    "    X_ = np.ones((X.shape[0], X.shape[1] + 1))\n",
    "    X_[:, 1:] = X\n",
    "    w = np.random.normal(loc=0.0, scale=1.0, size=X_.shape[1])\n",
    "    cost = []\n",
    "    w_hist = []\n",
    "    for i in range(max_iter):\n",
    "        w_hist.append(w)\n",
    "        predict = 1. / (1. + np.exp(np.clip(-np.dot(X_, w), -250, 250)))\n",
    "        error = y - predict\n",
    "        for idx, _ in enumerate(w):\n",
    "            w[idx] += error.T.dot(X_[:, idx]) * alpha\n",
    "            cost_ = -y.dot(np.log(predict)) - ((1 - y).dot(np.log(1 - predict)))\n",
    "            cost.append(cost_)\n",
    "    return w, cost\n",
    "\n",
    "def predict(X, w):\n",
    "    X_ = np.ones((X.shape[0], X.shape[1] + 1))\n",
    "    X_[:, 1:] = X\n",
    "    return np.where(X_.dot(w)>=0.5, 1, 0)"
   ]
  },
  {
   "cell_type": "code",
   "execution_count": 8,
   "metadata": {},
   "outputs": [
    {
     "data": {
      "text/plain": [
       "array([ 5.02841506e+01,  3.69521882e+02, -2.29969649e+02,  1.64449341e+03,\n",
       "        2.66583006e+02,  1.48924577e+00, -1.71974984e+01, -2.66509631e+01,\n",
       "       -1.13717052e+01, -1.03278529e+00,  6.39464783e-01,  3.63462374e+00,\n",
       "       -8.46442725e+00, -7.14865856e+01, -7.30960078e+02, -4.55814716e-01,\n",
       "       -3.69522743e+00, -6.24204874e+00, -1.89794641e+00, -3.26519470e-03,\n",
       "       -7.36575715e-01,  3.94993134e+02, -5.90344065e+02,  1.12329586e+03,\n",
       "       -4.97215342e+02, -3.41072477e+00, -6.10305780e+01, -8.10033688e+01,\n",
       "       -2.08636284e+01, -8.35751424e+00, -2.19193352e+00])"
      ]
     },
     "execution_count": 8,
     "metadata": {},
     "output_type": "execute_result"
    }
   ],
   "source": [
    "w, cost = logistic_regression(X, y, alpha=0.001, max_iter=10000)\n",
    "w"
   ]
  },
  {
   "cell_type": "code",
   "execution_count": 13,
   "metadata": {},
   "outputs": [
    {
     "data": {
      "text/plain": [
       "(array([0.40705725]),\n",
       " array([[ 2.16249887,  0.11754616, -0.07831771, -0.00266282, -0.15929505,\n",
       "         -0.40812037, -0.66342543, -0.3535881 , -0.23183976, -0.02541806,\n",
       "         -0.02324736,  1.24011836,  0.04378481, -0.09733039, -0.01784774,\n",
       "          0.01063528, -0.04533986, -0.0418176 , -0.04233063,  0.00715805,\n",
       "          1.30262095, -0.34440521, -0.12411562, -0.02470996, -0.29577272,\n",
       "         -1.13455596, -1.61295028, -0.67995191, -0.70343074, -0.11274612]]))"
      ]
     },
     "execution_count": 13,
     "metadata": {},
     "output_type": "execute_result"
    }
   ],
   "source": [
    "sk_lg.intercept_, sk_lg.coef_"
   ]
  },
  {
   "cell_type": "code",
   "execution_count": 18,
   "metadata": {},
   "outputs": [],
   "source": [
    "X_train, X_test, y_train, y_test = sklearn.model_selection.train_test_split(X, y, test_size=0.2)"
   ]
  },
  {
   "cell_type": "code",
   "execution_count": 21,
   "metadata": {},
   "outputs": [],
   "source": [
    "w = logistic_regression(X_train, y_train, alpha=0.01, max_iter=10000)\n",
    "pr = predict(X_test, w)"
   ]
  },
  {
   "cell_type": "code",
   "execution_count": 22,
   "metadata": {},
   "outputs": [
    {
     "data": {
      "text/plain": [
       "0.9298245614035088"
      ]
     },
     "execution_count": 22,
     "metadata": {},
     "output_type": "execute_result"
    }
   ],
   "source": [
    "sklearn.metrics.accuracy_score(y_test, pr)"
   ]
  },
  {
   "cell_type": "code",
   "execution_count": 4,
   "metadata": {},
   "outputs": [],
   "source": [
    "def check_random_state(seed):\n",
    "    \"\"\"Turn seed into a np.random.RandomState instance\n",
    "\n",
    "    Parameters\n",
    "    ----------\n",
    "    seed : None | int | instance of RandomState\n",
    "        If seed is None, return the RandomState singleton used by np.random.\n",
    "        If seed is an int, return a new RandomState instance seeded with seed.\n",
    "        If seed is already a RandomState instance, return it.\n",
    "        Otherwise raise ValueError.\n",
    "    \"\"\"\n",
    "    if seed is None or seed is np.random:\n",
    "        return np.random.mtrand._rand\n",
    "    if isinstance(seed, numbers.Integral):\n",
    "        return np.random.RandomState(seed)\n",
    "    if isinstance(seed, np.random.RandomState):\n",
    "        return seed\n",
    "    raise ValueError('%r cannot be used to seed a numpy.random.RandomState'\n",
    "                     ' instance' % seed)"
   ]
  },
  {
   "cell_type": "code",
   "execution_count": 20,
   "metadata": {},
   "outputs": [],
   "source": [
    "from sklearn.utils._seq_dataset import ArrayDataset32, CSRDataset32\n",
    "from sklearn.utils._seq_dataset import ArrayDataset64, CSRDataset64\n",
    "from scipy import sparse as sp"
   ]
  },
  {
   "cell_type": "code",
   "execution_count": 21,
   "metadata": {},
   "outputs": [],
   "source": [
    "def make_dataset(X, y, sample_weight, random_state=None):\n",
    "    \"\"\"Create ``Dataset`` abstraction for sparse and dense inputs.\n",
    "\n",
    "    This also returns the ``intercept_decay`` which is different\n",
    "    for sparse datasets.\n",
    "\n",
    "    Parameters\n",
    "    ----------\n",
    "    X : array_like, shape (n_samples, n_features)\n",
    "        Training data\n",
    "\n",
    "    y : array_like, shape (n_samples, )\n",
    "        Target values.\n",
    "\n",
    "    sample_weight : numpy array of shape (n_samples,)\n",
    "        The weight of each sample\n",
    "\n",
    "    random_state : int, RandomState instance or None (default)\n",
    "        Determines random number generation for dataset shuffling and noise.\n",
    "        Pass an int for reproducible output across multiple function calls.\n",
    "        See :term:`Glossary <random_state>`.\n",
    "\n",
    "    Returns\n",
    "    -------\n",
    "    dataset\n",
    "        The ``Dataset`` abstraction\n",
    "    intercept_decay\n",
    "        The intercept decay\n",
    "    \"\"\"\n",
    "\n",
    "    rng = check_random_state(random_state)\n",
    "    # seed should never be 0 in SequentialDataset64\n",
    "    seed = rng.randint(1, np.iinfo(np.int32).max)\n",
    "\n",
    "    if X.dtype == np.float32:\n",
    "        CSRData = CSRDataset32\n",
    "        ArrayData = ArrayDataset32\n",
    "    else:\n",
    "        CSRData = CSRDataset64\n",
    "        ArrayData = ArrayDataset64\n",
    "\n",
    "    if sp.issparse(X):\n",
    "        dataset = CSRData(X.data, X.indptr, X.indices, y, sample_weight,\n",
    "                          seed=seed)\n",
    "        intercept_decay = SPARSE_INTERCEPT_DECAY\n",
    "    else:\n",
    "        X = np.ascontiguousarray(X)\n",
    "        dataset = ArrayData(X, y, sample_weight, seed=seed)\n",
    "        intercept_decay = 1.0\n",
    "\n",
    "    return dataset, intercept_decay"
   ]
  },
  {
   "cell_type": "code",
   "execution_count": 29,
   "metadata": {},
   "outputs": [
    {
     "ename": "TypeError",
     "evalue": "data type not understood",
     "output_type": "error",
     "traceback": [
      "\u001b[0;31m---------------------------------------------------------------------------\u001b[0m",
      "\u001b[0;31mTypeError\u001b[0m                                 Traceback (most recent call last)",
      "\u001b[0;32m<ipython-input-29-89eeb6b1faa6>\u001b[0m in \u001b[0;36m<module>\u001b[0;34m()\u001b[0m\n\u001b[0;32m----> 1\u001b[0;31m \u001b[0mmake_dataset\u001b[0m\u001b[0;34m(\u001b[0m\u001b[0mX\u001b[0m\u001b[0;34m=\u001b[0m\u001b[0mX\u001b[0m\u001b[0;34m,\u001b[0m \u001b[0my\u001b[0m\u001b[0;34m=\u001b[0m\u001b[0my\u001b[0m\u001b[0;34m,\u001b[0m \u001b[0msample_weight\u001b[0m\u001b[0;34m=\u001b[0m\u001b[0mnp\u001b[0m\u001b[0;34m.\u001b[0m\u001b[0marray\u001b[0m\u001b[0;34m(\u001b[0m\u001b[0;36m1.\u001b[0m\u001b[0;34m,\u001b[0m \u001b[0;36m2.\u001b[0m\u001b[0;34m)\u001b[0m\u001b[0;34m,\u001b[0m \u001b[0mrandom_state\u001b[0m\u001b[0;34m=\u001b[0m\u001b[0;36m17\u001b[0m\u001b[0;34m)\u001b[0m\u001b[0;34m\u001b[0m\u001b[0m\n\u001b[0m",
      "\u001b[0;31mTypeError\u001b[0m: data type not understood"
     ]
    }
   ],
   "source": [
    "make_dataset(X=X, y=y, sample_weight=np.array(1., 2.), random_state=17)"
   ]
  },
  {
   "cell_type": "code",
   "execution_count": 10,
   "metadata": {},
   "outputs": [],
   "source": [
    "import numbers"
   ]
  },
  {
   "cell_type": "code",
   "execution_count": 50,
   "metadata": {},
   "outputs": [],
   "source": [
    "lr = sklearn.linear_model.LinearRegression(fit_intercept=True, copy_X=True, n_jobs=-1, normalize=True)"
   ]
  },
  {
   "cell_type": "code",
   "execution_count": 51,
   "metadata": {},
   "outputs": [
    {
     "data": {
      "text/plain": [
       "LinearRegression(copy_X=True, fit_intercept=True, n_jobs=-1, normalize=True)"
      ]
     },
     "execution_count": 51,
     "metadata": {},
     "output_type": "execute_result"
    }
   ],
   "source": [
    "lr.fit(X, y)"
   ]
  },
  {
   "cell_type": "code",
   "execution_count": 52,
   "metadata": {},
   "outputs": [
    {
     "data": {
      "text/plain": [
       "array([-1.08011358e-01,  4.64204584e-02,  2.05586264e-02,  2.68673382e+00,\n",
       "       -1.77666112e+01,  3.80986521e+00,  6.92224640e-04, -1.47556685e+00,\n",
       "        3.06049479e-01, -1.23345939e-02, -9.52747232e-01,  9.31168327e-03,\n",
       "       -5.24758378e-01])"
      ]
     },
     "execution_count": 52,
     "metadata": {},
     "output_type": "execute_result"
    }
   ],
   "source": [
    "lr.coef_"
   ]
  },
  {
   "cell_type": "code",
   "execution_count": 53,
   "metadata": {},
   "outputs": [
    {
     "data": {
      "text/plain": [
       "36.45948838508992"
      ]
     },
     "execution_count": 53,
     "metadata": {},
     "output_type": "execute_result"
    }
   ],
   "source": [
    "lr.intercept_"
   ]
  },
  {
   "cell_type": "code",
   "execution_count": 54,
   "metadata": {},
   "outputs": [
    {
     "data": {
      "text/plain": [
       "0.7406426641094094"
      ]
     },
     "execution_count": 54,
     "metadata": {},
     "output_type": "execute_result"
    }
   ],
   "source": [
    "lr.score(X, y)"
   ]
  },
  {
   "cell_type": "code",
   "execution_count": 55,
   "metadata": {},
   "outputs": [
    {
     "data": {
      "text/plain": [
       "0.7406426641094094"
      ]
     },
     "execution_count": 55,
     "metadata": {},
     "output_type": "execute_result"
    }
   ],
   "source": [
    "lr.score(X, y)"
   ]
  },
  {
   "cell_type": "code",
   "execution_count": null,
   "metadata": {},
   "outputs": [],
   "source": []
  }
 ],
 "metadata": {
  "kernelspec": {
   "display_name": "Python 3",
   "language": "python",
   "name": "python3"
  },
  "language_info": {
   "codemirror_mode": {
    "name": "ipython",
    "version": 3
   },
   "file_extension": ".py",
   "mimetype": "text/x-python",
   "name": "python",
   "nbconvert_exporter": "python",
   "pygments_lexer": "ipython3",
   "version": "3.6.5"
  }
 },
 "nbformat": 4,
 "nbformat_minor": 2
}
